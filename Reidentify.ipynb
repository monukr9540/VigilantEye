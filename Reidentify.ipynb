{
 "cells": [
  {
   "cell_type": "code",
   "execution_count": 1,
   "id": "c3c41cc0",
   "metadata": {},
   "outputs": [],
   "source": [
    "from ultralytics import YOLO\n",
    "import cv2\n",
    "import torch\n",
    "import torchvision.transforms as transforms\n",
    "from torchvision import models\n",
    "from PIL import Image\n",
    "import numpy as np\n",
    "from sklearn.metrics.pairwise import cosine_similarity\n",
    "\n",
    "# Load YOLOv8 model\n",
    "model_yolo = YOLO('yolov8n.pt')\n"
   ]
  },
  {
   "cell_type": "code",
   "execution_count": 2,
   "id": "57ad7cda",
   "metadata": {},
   "outputs": [
    {
     "name": "stderr",
     "output_type": "stream",
     "text": [
      "C:\\Users\\Dell\\AppData\\Roaming\\Python\\Python311\\site-packages\\torchvision\\models\\_utils.py:208: UserWarning: The parameter 'pretrained' is deprecated since 0.13 and may be removed in the future, please use 'weights' instead.\n",
      "  warnings.warn(\n",
      "C:\\Users\\Dell\\AppData\\Roaming\\Python\\Python311\\site-packages\\torchvision\\models\\_utils.py:223: UserWarning: Arguments other than a weight enum or `None` for 'weights' are deprecated since 0.13 and may be removed in the future. The current behavior is equivalent to passing `weights=ResNet50_Weights.IMAGENET1K_V1`. You can also use `weights=ResNet50_Weights.DEFAULT` to get the most up-to-date weights.\n",
      "  warnings.warn(msg)\n"
     ]
    }
   ],
   "source": [
    "# Load ResNet-50 model\n",
    "model_resnet = models.resnet50(pretrained=True)\n",
    "model_resnet.eval()\n",
    "\n",
    "# Define a transformation for input images\n",
    "transform = transforms.Compose([\n",
    "    transforms.Resize((224, 224)),\n",
    "    transforms.ToTensor(),\n",
    "    transforms.Normalize(mean=[0.485, 0.456, 0.406], std=[0.229, 0.224, 0.225]),\n",
    "])\n",
    "\n",
    "cap = cv2.VideoCapture(1)"
   ]
  },
  {
   "cell_type": "code",
   "execution_count": 1,
   "id": "fd9181e9",
   "metadata": {},
   "outputs": [
    {
     "ename": "NameError",
     "evalue": "name 'cap' is not defined",
     "output_type": "error",
     "traceback": [
      "\u001b[1;31m---------------------------------------------------------------------------\u001b[0m",
      "\u001b[1;31mNameError\u001b[0m                                 Traceback (most recent call last)",
      "Cell \u001b[1;32mIn[1], line 7\u001b[0m\n\u001b[0;32m      5\u001b[0m \u001b[38;5;66;03m# Read frames\u001b[39;00m\n\u001b[0;32m      6\u001b[0m \u001b[38;5;28;01mwhile\u001b[39;00m ret:\n\u001b[1;32m----> 7\u001b[0m     ret, frame \u001b[38;5;241m=\u001b[39m \u001b[43mcap\u001b[49m\u001b[38;5;241m.\u001b[39mread()\n\u001b[0;32m      9\u001b[0m     \u001b[38;5;28;01mif\u001b[39;00m ret:\n\u001b[0;32m     10\u001b[0m \n\u001b[0;32m     11\u001b[0m         \u001b[38;5;66;03m# Detect objects using YOLOv8\u001b[39;00m\n\u001b[0;32m     12\u001b[0m         results \u001b[38;5;241m=\u001b[39m model_yolo\u001b[38;5;241m.\u001b[39mtrack(frame, persist\u001b[38;5;241m=\u001b[39m\u001b[38;5;28;01mTrue\u001b[39;00m)\n",
      "\u001b[1;31mNameError\u001b[0m: name 'cap' is not defined"
     ]
    }
   ],
   "source": [
    "# Initialize clean features\n",
    "clean_features = None\n",
    "\n",
    "ret = True\n",
    "# Read frames\n",
    "while ret:\n",
    "    ret, frame = cap.read()\n",
    "\n",
    "    if ret:\n",
    "\n",
    "        # Detect objects using YOLOv8\n",
    "        results = model_yolo.track(frame, persist=True)\n",
    "        \n",
    "        # Update clean features based on the first frame's detection\n",
    "        if clean_features is None and len(results[0]) > 0:\n",
    "            first_object = results[0][0]\n",
    "            bbox = first_object.boxes.xyxy.squeeze().tolist()\n",
    "            cropped_object = frame[int(bbox[1]):int(bbox[3]), int(bbox[0]):int(bbox[2])]\n",
    "            cropped_object = Image.fromarray(cropped_object).convert('RGB')\n",
    "            cropped_object = transform(cropped_object)\n",
    "            cropped_object = cropped_object.unsqueeze(0)\n",
    "\n",
    "            # Calculate features for the first detected object\n",
    "            with torch.no_grad():\n",
    "                clean_features = model_resnet(cropped_object).numpy()\n",
    "\n",
    "        # Process detected objects\n",
    "        for obj in results[0]:\n",
    "            bbox = obj.boxes.xyxy.squeeze().tolist()\n",
    "            cropped_object = frame[int(bbox[1]):int(bbox[3]), int(bbox[0]):int(bbox[2])]\n",
    "            cropped_object = Image.fromarray(cropped_object).convert('RGB')\n",
    "            cropped_object = transform(cropped_object)\n",
    "            cropped_object = cropped_object.unsqueeze(0)\n",
    "\n",
    "            # Calculate similarity with clean image\n",
    "            with torch.no_grad():\n",
    "                object_features = model_resnet(cropped_object).numpy()\n",
    "            similarity = cosine_similarity(object_features, clean_features)\n",
    "            print(similarity[0][0])\n",
    "\n",
    "            # Visualize the object and similarity score\n",
    "            if similarity > 0.45:\n",
    "                cv2.rectangle(frame, (int(bbox[0]), int(bbox[1])), (int(bbox[2]), int(bbox[3])), (0, 255, 0), 2)\n",
    "                cv2.putText(frame, f'Similarity: {similarity[0][0]:.2f}', (int(bbox[0]), int(bbox[1]) - 10),\n",
    "                            cv2.FONT_HERSHEY_SIMPLEX, 0.5, (0, 255, 0), 2)\n",
    "            else:\n",
    "                cv2.rectangle(frame, (int(bbox[0]), int(bbox[1])), (int(bbox[2]), int(bbox[3])), (0, 0, 255), 2)\n",
    "                cv2.putText(frame, f'Similarity: {similarity[0][0]:.2f}', (int(bbox[0]), int(bbox[1]) - 10),\n",
    "                            cv2.FONT_HERSHEY_SIMPLEX, 0.5, (0, 0, 255), 2)\n",
    "\n",
    "        # Visualize the results\n",
    "        cv2.imshow('frame', frame)\n",
    "        if cv2.waitKey(25) & 0xFF == ord('q'):\n",
    "            break"
   ]
  },
  {
   "cell_type": "code",
   "execution_count": null,
   "id": "bc4b68b0",
   "metadata": {},
   "outputs": [],
   "source": []
  }
 ],
 "metadata": {
  "kernelspec": {
   "display_name": "Python 3 (ipykernel)",
   "language": "python",
   "name": "python3"
  },
  "language_info": {
   "codemirror_mode": {
    "name": "ipython",
    "version": 3
   },
   "file_extension": ".py",
   "mimetype": "text/x-python",
   "name": "python",
   "nbconvert_exporter": "python",
   "pygments_lexer": "ipython3",
   "version": "3.11.3"
  }
 },
 "nbformat": 4,
 "nbformat_minor": 5
}
